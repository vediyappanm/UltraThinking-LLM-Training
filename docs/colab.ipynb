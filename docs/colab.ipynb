{
 "cells": [
  {
   "cell_type": "markdown",
   "id": "43809b62",
   "metadata": {},
   "source": [
    "# UltraThink Colab: Training + Monitoring Quickstart\n",
    "\n",
    "This notebook trains UltraThink and visualizes DRE/MoE metrics via MLflow. Includes a forced-EXPERT smoke test, natural routing run, and a baseline run without MoE/DRE."
   ]
  },
  {
   "cell_type": "code",
   "execution_count": null,
   "id": "b3873fd4",
   "metadata": {
    "id": "env_setup"
   },
   "outputs": [],
   "source": [
    "# Check GPU and install dependencies\n",
    "!nvidia-smi || echo 'No NVIDIA GPU'\n",
    "\n",
    "!pip -q install --upgrade pip\n",
    "!pip -q install torch torchvision torchaudio --index-url https://download.pytorch.org/whl/cu121\n",
    "!pip -q install transformers datasets accelerate mlflow tqdm sentencepiece protobuf==3.20.* safetensors"
   ]
  },
  {
   "cell_type": "code",
   "execution_count": null,
   "id": "8090a2e8",
   "metadata": {
    "id": "clone_repo"
   },
   "outputs": [],
   "source": [
    "# Clone or pull latest repo and cd into it\n",
    "import os\n",
    "repo = 'UltraThinking-LLM-Training'\n",
    "if not os.path.isdir(f'/content/{repo}'):\n",
    "    !git clone https://github.com/vediyappanm/UltraThinking-LLM-Training.git /content/UltraThinking-LLM-Training\n",
    "else:\n",
    "    %cd /content/UltraThinking-LLM-Training\n",
    "    !git pull origin main\n",
    "%cd /content/UltraThinking-LLM-Training"
   ]
  },
  {
   "cell_type": "code",
   "execution_count": null,
   "id": "661d1104",
   "metadata": {
    "id": "mlflow_setup"
   },
   "outputs": [],
   "source": [
    "# Configure MLflow local file store\n",
    "import os\n",
    "os.environ['MLFLOW_TRACKING_URI'] = 'file:/content/mlruns'\n",
    "os.makedirs('/content/mlruns', exist_ok=True)\n",
    "print('MLFLOW_TRACKING_URI =', os.environ['MLFLOW_TRACKING_URI'])"
   ]
  },
  {
   "cell_type": "markdown",
   "id": "f7e143be",
   "metadata": {},
   "source": [
    "## Forced-EXPERT smoke test (verifies DRE→MoE path and logs)"
   ]
  },
  {
   "cell_type": "code",
   "execution_count": null,
   "id": "2ef985c2",
   "metadata": {
    "id": "smoke_test"
   },
   "outputs": [],
   "source": [
    "RUN_NAME = 'expert_forced_colab_check'\n",
    "OUT_DIR = f'./outputs/{RUN_NAME}'\n",
    "\n",
    "!python train_ultrathink.py \\\n",
    "  --dataset c4 --dataset_subset en --streaming \\\n",
    "  --train_samples 200 --val_samples 50 \\\n",
    "  --tokenizer_name gpt2 --vocab_size 50257 \\\n",
    "  --hidden_size 512 --num_layers 6 --num_heads 8 --num_kv_heads 4 \\\n",
    "  --intermediate_size 2048 --max_seq_length 256 \\\n",
    "  --enable_moe --enable_dre --dre_force_path expert \\\n",
    "  --num_knowledge_experts 4 --num_skill_experts 2 --num_meta_experts 1 --num_safety_experts 1 \\\n",
    "  --moe_top_k 1 --expert_capacity 1.25 \\\n",
    "  --batch_size 1 --gradient_accumulation_steps 16 \\\n",
    "  --learning_rate 3e-4 --weight_decay 0.01 \\\n",
    "  --warmup_steps 500 --num_epochs 1 \\\n",
    "  --use_amp --gradient_checkpointing \\\n",
    "  --eval_frequency 5 --perf_log_interval 200 --num_workers 2 \\\n",
    "  --use_mlflow --run_name $RUN_NAME \\\n",
    "  --output_dir $OUT_DIR"
   ]
  },
  {
   "cell_type": "markdown",
   "id": "a22cff16",
   "metadata": {},
   "source": [
    "## Live log tail"
   ]
  },
  {
   "cell_type": "code",
   "execution_count": null,
   "id": "66f393cb",
   "metadata": {
    "id": "log_tail"
   },
   "outputs": [],
   "source": [
    "# Tail the training log for ~2 minutes to observe path/latency lines\n",
    "import time, os\n",
    "from IPython.display import clear_output\n",
    "LOG_PATH = f\"{OUT_DIR}/training.log\"\n",
    "for _ in range(60):\n",
    "    clear_output(wait=True)\n",
    "    try:\n",
    "        with open(LOG_PATH, 'r') as f:\n",
    "            data = f.read()\n",
    "        print(data[-4000:])\n",
    "    except Exception as e:\n",
    "        print('Waiting for log...', e)\n",
    "    time.sleep(2)"
   ]
  },
  {
   "cell_type": "markdown",
   "id": "f4a31d8a",
   "metadata": {},
   "source": [
    "## MLflow metrics: visualize DRE/MoE"
   ]
  },
  {
   "cell_type": "code",
   "execution_count": null,
   "id": "4c9b2588",
   "metadata": {
    "id": "mlflow_charts"
   },
   "outputs": [],
   "source": [
    "import mlflow\n",
    "from mlflow.tracking import MlflowClient\n",
    "import pandas as pd\n",
    "import matplotlib.pyplot as plt\n",
    "import seaborn as sns\n",
    "sns.set_style('whitegrid')\n",
    "\n",
    "EXPERIMENT_NAME = 'UltraThinking-LLM-Training'\n",
    "RUN_NAME = 'expert_forced_colab_check'  # change to your run if needed\n",
    "\n",
    "client = MlflowClient()\n",
    "exp = client.get_experiment_by_name(EXPERIMENT_NAME)\n",
    "if exp is None:\n",
    "    raise RuntimeError(f\"Experiment '{EXPERIMENT_NAME}' not found\")\n",
    "\n",
    "runs = mlflow.search_runs(\n",
    "    experiment_ids=[exp.experiment_id],\n",
    "    filter_string=f\"tags.mlflow.runName = '{RUN_NAME}'\",\n",
    "    order_by=['attributes.start_time DESC'],\n",
    "    max_results=1,\n",
    ")\n",
    "if len(runs) == 0:\n",
    "    raise RuntimeError(f\"No runs found for name: {RUN_NAME}\")\n",
    "run_id = runs.iloc[0]['run_id']\n",
    "print('Using run:', run_id)\n",
    "\n",
    "def metric_df(metric_name: str) -> pd.DataFrame:\n",
    "    hist = client.get_metric_history(run_id, metric_name)\n",
    "    if not hist:\n",
    "        return pd.DataFrame(columns=['step','value','metric'])\n",
    "    return pd.DataFrame({\n",
    "        'step': [m.step for m in hist],\n",
    "        'value': [m.value for m in hist],\n",
    "        'metric': metric_name,\n",
    "    })\n",
    "\n",
    "metrics_to_plot = [\n",
    "    'train/step_loss',\n",
    "    'train/tokens_per_sec',\n",
    "    'moe/avg_routing_entropy',\n",
    "]\n",
    "frames = [metric_df(m) for m in metrics_to_plot]\n",
    "plot_df = pd.concat(frames, ignore_index=True) if frames else pd.DataFrame()\n",
    "\n",
    "if not plot_df.empty:\n",
    "    fig, axes = plt.subplots(3, 1, figsize=(10, 10), sharex=True)\n",
    "    for i, m in enumerate(metrics_to_plot):\n",
    "        df = plot_df[plot_df.metric == m]\n",
    "        axes[i].plot(df['step'], df['value'], label=m)\n",
    "        axes[i].set_ylabel(m)\n",
    "        axes[i].legend(loc='best')\n",
    "    axes[-1].set_xlabel('global_step')\n",
    "    plt.tight_layout()\n",
    "    plt.show()\n",
    "else:\n",
    "    print('No metrics to plot yet.')\n",
    "\n",
    "# DRE path distribution (latest snapshot)\n",
    "PATHS = ['fast','standard','expert','deep','ultra_deep']\n",
    "path_vals = {}\n",
    "for p in PATHS:\n",
    "    mname = f'dre/path_{p}'\n",
    "    hist = client.get_metric_history(run_id, mname)\n",
    "    path_vals[p] = (hist[-1].value if hist else 0.0)\n",
    "plt.figure(figsize=(8,4))\n",
    "plt.bar(list(path_vals.keys()), list(path_vals.values()), color='#4C78A8')\n",
    "plt.title('DRE Path Distribution (latest)')\n",
    "plt.ylabel('Percent')\n",
    "plt.ylim(0, 100)\n",
    "plt.show()\n",
    "\n",
    "# MoE top-expert concentration per group (latest)\n",
    "EXPERT_GROUPS = ['knowledge','skill','meta','safety']\n",
    "concentration = {}\n",
    "for g in EXPERT_GROUPS:\n",
    "    m = f'moe/{g}_top_expert_pct'\n",
    "    hist = client.get_metric_history(run_id, m)\n",
    "    concentration[g] = (hist[-1].value if hist else 0.0)\n",
    "plt.figure(figsize=(8,4))\n",
    "plt.bar(list(concentration.keys()), list(concentration.values()), color='#F58518')\n",
    "plt.title('MoE max expert concentration (latest)')\n",
    "plt.ylabel('Percent')\n",
    "plt.ylim(0, 100)\n",
    "plt.show()"
   ]
  },
  {
   "cell_type": "markdown",
   "id": "ed0be91a",
   "metadata": {},
   "source": [
    "## Natural routing run (router decides paths)"
   ]
  },
  {
   "cell_type": "code",
   "execution_count": null,
   "id": "f4f0d429",
   "metadata": {
    "id": "natural_run"
   },
   "outputs": [],
   "source": [
    "RUN_NAME = 'ultrathink_train_colab'\n",
    "OUT_DIR = f'./outputs/{RUN_NAME}'\n",
    "\n",
    "!python train_ultrathink.py \\\n",
    "  --dataset c4 --dataset_subset en --streaming \\\n",
    "  --train_samples 2000 --val_samples 1000 \\\n",
    "  --tokenizer_name gpt2 --vocab_size 50257 \\\n",
    "  --hidden_size 512 --num_layers 6 --num_heads 8 --num_kv_heads 4 \\\n",
    "  --intermediate_size 2048 --max_seq_length 256 \\\n",
    "  --enable_moe --enable_dre \\\n",
    "  --num_knowledge_experts 4 --num_skill_experts 2 --num_meta_experts 1 --num_safety_experts 1 \\\n",
    "  --moe_top_k 1 --expert_capacity 1.25 \\\n",
    "  --batch_size 1 --gradient_accumulation_steps 16 \\\n",
    "  --learning_rate 3e-4 --weight_decay 0.1 \\\n",
    "  --warmup_steps 500 --num_epochs 1 \\\n",
    "  --use_amp --gradient_checkpointing \\\n",
    "  --eval_frequency 100 --perf_log_interval 200 --num_workers 2 \\\n",
    "  --use_mlflow --run_name $RUN_NAME \\\n",
    "  --output_dir $OUT_DIR"
   ]
  },
  {
   "cell_type": "markdown",
   "id": "41275f4d",
   "metadata": {},
   "source": [
    "## Baseline run (no MoE / no DRE)"
   ]
  },
  {
   "cell_type": "code",
   "execution_count": null,
   "id": "ce19beab",
   "metadata": {
    "id": "baseline_run"
   },
   "outputs": [],
   "source": [
    "RUN_NAME = 'baseline_no_moe_dre'\n",
    "OUT_DIR = f'./outputs/{RUN_NAME}'\n",
    "\n",
    "!python train_ultrathink.py \\\n",
    "  --dataset c4 --dataset_subset en --streaming \\\n",
    "  --train_samples 2000 --val_samples 1000 \\\n",
    "  --tokenizer_name gpt2 --vocab_size 50257 \\\n",
    "  --hidden_size 512 --num_layers 6 --num_heads 8 --num_kv_heads 4 \\\n",
    "  --intermediate_size 2048 --max_seq_length 256 \\\n",
    "  --batch_size 1 --gradient_accumulation_steps 16 \\\n",
    "  --learning_rate 3e-4 --weight_decay 0.1 \\\n",
    "  --warmup_steps 500 --num_epochs 1 \\\n",
    "  --use_amp --gradient_checkpointing \\\n",
    "  --eval_frequency 100 --perf_log_interval 200 --num_workers 2 \\\n",
    "  --use_mlflow --run_name $RUN_NAME \\\n",
    "  --output_dir $OUT_DIR"
   ]
  }
 ],
 "metadata": {
  "colab": {
   "name": "UltraThink_Training_Monitoring.ipynb"
  },
  "kernelspec": {
   "display_name": "Python 3",
   "language": "python",
   "name": "python3"
  },
  "language_info": {
   "name": "python",
   "version": "3.10"
  }
 },
 "nbformat": 4,
 "nbformat_minor": 5
}
