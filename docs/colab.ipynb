{
  "cells": [
    {
      "cell_type": "markdown",
      "metadata": {
        "id": "title"
      },
      "source": [
        "# UltraThink — Google Colab Training\n",
        "\n",
        "This notebook trains the UltraThink model with two ready-made configurations:\n",
        "- Local/Colab GPU (16GB+ VRAM)\n",
        "- High-End GPU (32GB+ VRAM, e.g., V100/A100)\n",
        "\n",
        "Metrics: loss, perplexity, tokens/sec are logged to console. Optional MLflow tracking is supported."
      ]
    },
    {
      "cell_type": "code",
      "execution_count": null,
      "metadata": {
        "id": "gpu_check"
      },
      "outputs": [],
      "source": [
        "#@title Check GPU\n",
        "!nvidia-smi || echo 'No NVIDIA GPU detected'"
      ]
    },
    {
      "cell_type": "markdown",
      "metadata": {
        "id": "project_setup_md"
      },
      "source": [
        "## Project Setup\n",
        "Upload your project folder (this repo) into Colab's working directory (`/content`).\n",
        "If it's in Google Drive, mount and `cd` into it."
      ]
    },
    {
      "cell_type": "code",
      "execution_count": null,
      "metadata": {
        "id": "mount_drive"
      },
      "outputs": [],
      "source": [
        "#@title (Optional) Mount Google Drive\n",
        "from google.colab import drive\n",
        "drive.mount('/content/drive')\n",
        "# After mounting, you can: %cd /content/drive/MyDrive/path/to/your/project\n",
        "# Or if you uploaded directly to /content, cd there instead\n",
        "%cd /content"
      ]
    },
    {
      "cell_type": "code",
      "execution_count": null,
      "metadata": {
        "id": "change_dir"
      },
      "outputs": [],
      "source": [
        "#@title Change directory to your project root (edit if needed)\n",
        "# If you uploaded the repository folder named 'deep', run:\n",
        "#@title Change directory to your project root (edit if needed)\n",
        "# If you uploaded the repository folder named 'deep', run:\n",
        "%cd /content/UltraThinking-LLM-Training"
      ]
    },
    {
      "cell_type": "code",
      "execution_count": null,
      "metadata": {
        "id": "install_deps"
      },
      "outputs": [],
      "source": [
        "#@title Install dependencies\n",
        "# Prefer the project's requirements; Colab will build wheels as needed\n",
        "!pip install -q -r requirements.txt\n",
        "# Workarounds for Colab environments (safe no-ops if already satisfied)\n",
        "!pip install -q --upgrade pip setuptools wheel\n",
        "# Optional: Deepspeed is heavy; skip on Colab unless required\n",
        "# !pip install -q deepspeed"
      ]
    },
    {
      "cell_type": "markdown",
      "metadata": {
        "id": "mlflow_note"
      },
      "source": [
        "### MLflow (Optional)\n",
        "This project uses local MLflow (`file:./mlruns`). You can run the UI in Colab background shell and use the proxy to view it if desired."
      ]
    },
    {
      "cell_type": "code",
      "execution_count": null,
      "metadata": {
        "id": "train_colab_16gb"
      },
      "outputs": [],
      "source": [
        "!python train_ultrathink.py \\\n",
        "  --dataset c4 --dataset_subset en --streaming \\\n",
        "  --tokenizer_name gpt2 --vocab_size 50257 \\\n",
        "  --hidden_size 512 --num_layers 6 --num_heads 8 --num_kv_heads 4 \\\n",
        "  --intermediate_size 2048 --max_seq_length 256 \\\n",
        "  --activation swiglu \\\n",
        "  --dropout 0.1 --attention_dropout 0.1 \\\n",
        "  --enable_moe \\\n",
        "  --num_knowledge_experts 4 --num_skill_experts 2 --num_meta_experts 1 --num_safety_experts 1 \\\n",
        "  --moe_top_k 1 --expert_capacity 1.0 \\\n",
        "  --enable_dre --dre_warmup_steps 500 \\\n",
        "  --amp_warmup_steps 500 \\\n",
        "  --batch_size 1 --gradient_accumulation_steps 16 \\\n",
        "  --learning_rate 3e-4 --weight_decay 0.1 \\\n",
        "  --adam_beta1 0.9 --adam_beta2 0.999 \\\n",
        "  --warmup_steps 500 --num_epochs 1 \\\n",
        "  --gradient_clipping 1.0 \\\n",
        "  --use_amp --gradient_checkpointing \\\n",
        "  --eval_frequency 100 --num_workers 2 \\\n",
        "  --train_samples 2000 --val_samples 200 \\\n",
        "  --perf_log_interval 10 \\\n",
        "  --use_mlflow --run_name ultrathink_debug_loss \\\n",
        "  --output_dir ./outputs/ultrathink_debug_loss"
      ]
    },
    {
      "cell_type": "code",
      "execution_count": null,
      "metadata": {
        "id": "train_highend_32gb"
      },
      "outputs": [],
      "source": [
        "#@title Train — High-End GPU (32GB+ VRAM: V100/A100)\n",
        "!python train_ultrathink.py \\\n",
        "  --dataset c4 --dataset_subset en --streaming \\\n",
        "  --tokenizer_name gpt2 --vocab_size 50257 \\\n",
        "  --hidden_size 2048 --num_layers 24 --num_heads 16 --num_kv_heads 8 \\\n",
        "  --intermediate_size 8192 --max_seq_length 2048 \\\n",
        "  --activation swiglu \\\n",
        "  --dropout 0.05 --attention_dropout 0.05 \\\n",
        "  --enable_moe \\\n",
        "  --num_knowledge_experts 32 --num_skill_experts 16 \\\n",
        "  --num_meta_experts 8 --num_safety_experts 4 \\\n",
        "  --moe_top_k 2 --expert_capacity 1.25 \\\n",
        "  --enable_dre --dre_warmup_steps 2000 \\\n",
        "  --enable_constitutional \\\n",
        "  --enable_multimodal \\\n",
        "  --amp_warmup_steps 1000 \\\n",
        "  --batch_size 4 --gradient_accumulation_steps 32 \\\n",
        "  --learning_rate 1e-4 --weight_decay 0.01 \\\n",
        "  --adam_beta1 0.9 --adam_beta2 0.999 \\\n",
        "  --warmup_steps 10000 --num_epochs 3 \\\n",
        "  --gradient_clipping 1.0 \\\n",
        "  --use_amp --gradient_checkpointing --use_flash_attention \\\n",
        "  --eval_frequency 2 \\\n",
        "  --use_mlflow --run_name ultrathink_large_complete \\\n",
        "  --output_dir ./outputs/ultrathink_large_complete"
      ]
    },
    {
      "cell_type": "markdown",
      "metadata": {
        "id": "monitoring"
      },
      "source": [
        "## Monitoring\n",
        "Console logs will include:\n",
        "- **[step]** loss, ppl, toks/s every N steps (set by `perf_log_interval`)\n",
        "- **[train]** epoch avg_loss and avg_ppl\n",
        "- **[val]** avg_loss and avg_ppl\n",
        "\n",
        "To run MLflow UI (optional):\n",
        "```bash\n",
        "mlflow ui --host 0.0.0.0 --port 5000\n",
        "```\n",
        "Use Colab's proxy or `cloudflared` to expose the port if needed."
      ]
    }
  ],
  "metadata": {
    "colab": {
      "name": "Train_UltraThink_Colab.ipynb",
      "provenance": []
    },
    "kernelspec": {
      "display_name": "Python 3",
      "language": "python",
      "name": "python3"
    }
  },
  "nbformat": 4,
  "nbformat_minor": 5
}
